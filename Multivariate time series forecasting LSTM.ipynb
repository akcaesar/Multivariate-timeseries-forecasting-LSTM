{
 "cells": [
  {
   "cell_type": "code",
   "execution_count": 1,
   "metadata": {},
   "outputs": [],
   "source": [
    "import numpy as np\n",
    "import pandas as pd\n",
    "from keras.models import Sequential\n",
    "from keras.layers import LSTM, Dense\n",
    "from matplotlib import pyplot as plt\n",
    "from sklearn.preprocessing import StandardScaler\n",
    "import seaborn as sns\n",
    "\n"
   ]
  },
  {
   "cell_type": "code",
   "execution_count": 2,
   "metadata": {},
   "outputs": [],
   "source": [
    "df = pd.read_csv('GE.csv')"
   ]
  },
  {
   "cell_type": "code",
   "execution_count": 3,
   "metadata": {},
   "outputs": [
    {
     "data": {
      "text/html": [
       "<div>\n",
       "<style scoped>\n",
       "    .dataframe tbody tr th:only-of-type {\n",
       "        vertical-align: middle;\n",
       "    }\n",
       "\n",
       "    .dataframe tbody tr th {\n",
       "        vertical-align: top;\n",
       "    }\n",
       "\n",
       "    .dataframe thead th {\n",
       "        text-align: right;\n",
       "    }\n",
       "</style>\n",
       "<table border=\"1\" class=\"dataframe\">\n",
       "  <thead>\n",
       "    <tr style=\"text-align: right;\">\n",
       "      <th></th>\n",
       "      <th>Date</th>\n",
       "      <th>Open</th>\n",
       "      <th>High</th>\n",
       "      <th>Low</th>\n",
       "      <th>Close</th>\n",
       "      <th>Adj Close</th>\n",
       "      <th>Volume</th>\n",
       "    </tr>\n",
       "  </thead>\n",
       "  <tbody>\n",
       "    <tr>\n",
       "      <th>0</th>\n",
       "      <td>2020-06-01</td>\n",
       "      <td>6.58</td>\n",
       "      <td>6.82</td>\n",
       "      <td>6.49</td>\n",
       "      <td>6.76</td>\n",
       "      <td>6.727587</td>\n",
       "      <td>75178700</td>\n",
       "    </tr>\n",
       "    <tr>\n",
       "      <th>1</th>\n",
       "      <td>2020-06-02</td>\n",
       "      <td>6.90</td>\n",
       "      <td>7.18</td>\n",
       "      <td>6.86</td>\n",
       "      <td>7.05</td>\n",
       "      <td>7.016197</td>\n",
       "      <td>113575400</td>\n",
       "    </tr>\n",
       "    <tr>\n",
       "      <th>2</th>\n",
       "      <td>2020-06-03</td>\n",
       "      <td>7.22</td>\n",
       "      <td>7.42</td>\n",
       "      <td>7.18</td>\n",
       "      <td>7.36</td>\n",
       "      <td>7.324710</td>\n",
       "      <td>122819500</td>\n",
       "    </tr>\n",
       "    <tr>\n",
       "      <th>3</th>\n",
       "      <td>2020-06-04</td>\n",
       "      <td>7.31</td>\n",
       "      <td>7.75</td>\n",
       "      <td>7.17</td>\n",
       "      <td>7.74</td>\n",
       "      <td>7.702888</td>\n",
       "      <td>125193900</td>\n",
       "    </tr>\n",
       "    <tr>\n",
       "      <th>4</th>\n",
       "      <td>2020-06-05</td>\n",
       "      <td>8.45</td>\n",
       "      <td>8.56</td>\n",
       "      <td>7.83</td>\n",
       "      <td>7.88</td>\n",
       "      <td>7.842216</td>\n",
       "      <td>167811600</td>\n",
       "    </tr>\n",
       "  </tbody>\n",
       "</table>\n",
       "</div>"
      ],
      "text/plain": [
       "         Date  Open  High   Low  Close  Adj Close     Volume\n",
       "0  2020-06-01  6.58  6.82  6.49   6.76   6.727587   75178700\n",
       "1  2020-06-02  6.90  7.18  6.86   7.05   7.016197  113575400\n",
       "2  2020-06-03  7.22  7.42  7.18   7.36   7.324710  122819500\n",
       "3  2020-06-04  7.31  7.75  7.17   7.74   7.702888  125193900\n",
       "4  2020-06-05  8.45  8.56  7.83   7.88   7.842216  167811600"
      ]
     },
     "execution_count": 3,
     "metadata": {},
     "output_type": "execute_result"
    }
   ],
   "source": [
    "df.head()"
   ]
  },
  {
   "cell_type": "code",
   "execution_count": 4,
   "metadata": {},
   "outputs": [
    {
     "name": "stdout",
     "output_type": "stream",
     "text": [
      "(252, 7)\n"
     ]
    }
   ],
   "source": [
    "print(df.shape)"
   ]
  },
  {
   "cell_type": "code",
   "execution_count": 5,
   "metadata": {},
   "outputs": [],
   "source": [
    "# convert the dates from text format to the proper date format\n",
    "train_dates = pd.to_datetime(df['Date'])  "
   ]
  },
  {
   "cell_type": "code",
   "execution_count": 6,
   "metadata": {},
   "outputs": [
    {
     "data": {
      "text/plain": [
       "0     2020-06-01\n",
       "1     2020-06-02\n",
       "2     2020-06-03\n",
       "3     2020-06-04\n",
       "4     2020-06-05\n",
       "         ...    \n",
       "247   2021-05-24\n",
       "248   2021-05-25\n",
       "249   2021-05-26\n",
       "250   2021-05-27\n",
       "251   2021-05-28\n",
       "Name: Date, Length: 252, dtype: datetime64[ns]"
      ]
     },
     "execution_count": 6,
     "metadata": {},
     "output_type": "execute_result"
    }
   ],
   "source": [
    "train_dates"
   ]
  },
  {
   "cell_type": "code",
   "execution_count": 7,
   "metadata": {},
   "outputs": [],
   "source": [
    "# variables for training\n",
    "cols = list(df)[1:6]"
   ]
  },
  {
   "cell_type": "code",
   "execution_count": 8,
   "metadata": {},
   "outputs": [],
   "source": [
    "# the dataset used for training (without the date column)\n",
    "df_for_training = df[cols].astype(float)\n"
   ]
  },
  {
   "cell_type": "code",
   "execution_count": 9,
   "metadata": {},
   "outputs": [
    {
     "data": {
      "text/html": [
       "<div>\n",
       "<style scoped>\n",
       "    .dataframe tbody tr th:only-of-type {\n",
       "        vertical-align: middle;\n",
       "    }\n",
       "\n",
       "    .dataframe tbody tr th {\n",
       "        vertical-align: top;\n",
       "    }\n",
       "\n",
       "    .dataframe thead th {\n",
       "        text-align: right;\n",
       "    }\n",
       "</style>\n",
       "<table border=\"1\" class=\"dataframe\">\n",
       "  <thead>\n",
       "    <tr style=\"text-align: right;\">\n",
       "      <th></th>\n",
       "      <th>Open</th>\n",
       "      <th>High</th>\n",
       "      <th>Low</th>\n",
       "      <th>Close</th>\n",
       "      <th>Adj Close</th>\n",
       "    </tr>\n",
       "  </thead>\n",
       "  <tbody>\n",
       "    <tr>\n",
       "      <th>0</th>\n",
       "      <td>6.58</td>\n",
       "      <td>6.82</td>\n",
       "      <td>6.49</td>\n",
       "      <td>6.76</td>\n",
       "      <td>6.727587</td>\n",
       "    </tr>\n",
       "    <tr>\n",
       "      <th>1</th>\n",
       "      <td>6.90</td>\n",
       "      <td>7.18</td>\n",
       "      <td>6.86</td>\n",
       "      <td>7.05</td>\n",
       "      <td>7.016197</td>\n",
       "    </tr>\n",
       "    <tr>\n",
       "      <th>2</th>\n",
       "      <td>7.22</td>\n",
       "      <td>7.42</td>\n",
       "      <td>7.18</td>\n",
       "      <td>7.36</td>\n",
       "      <td>7.324710</td>\n",
       "    </tr>\n",
       "    <tr>\n",
       "      <th>3</th>\n",
       "      <td>7.31</td>\n",
       "      <td>7.75</td>\n",
       "      <td>7.17</td>\n",
       "      <td>7.74</td>\n",
       "      <td>7.702888</td>\n",
       "    </tr>\n",
       "    <tr>\n",
       "      <th>4</th>\n",
       "      <td>8.45</td>\n",
       "      <td>8.56</td>\n",
       "      <td>7.83</td>\n",
       "      <td>7.88</td>\n",
       "      <td>7.842216</td>\n",
       "    </tr>\n",
       "    <tr>\n",
       "      <th>...</th>\n",
       "      <td>...</td>\n",
       "      <td>...</td>\n",
       "      <td>...</td>\n",
       "      <td>...</td>\n",
       "      <td>...</td>\n",
       "    </tr>\n",
       "    <tr>\n",
       "      <th>247</th>\n",
       "      <td>13.29</td>\n",
       "      <td>13.31</td>\n",
       "      <td>13.12</td>\n",
       "      <td>13.18</td>\n",
       "      <td>13.180000</td>\n",
       "    </tr>\n",
       "    <tr>\n",
       "      <th>248</th>\n",
       "      <td>13.20</td>\n",
       "      <td>13.29</td>\n",
       "      <td>13.10</td>\n",
       "      <td>13.12</td>\n",
       "      <td>13.120000</td>\n",
       "    </tr>\n",
       "    <tr>\n",
       "      <th>249</th>\n",
       "      <td>13.12</td>\n",
       "      <td>13.43</td>\n",
       "      <td>13.04</td>\n",
       "      <td>13.40</td>\n",
       "      <td>13.400000</td>\n",
       "    </tr>\n",
       "    <tr>\n",
       "      <th>250</th>\n",
       "      <td>13.60</td>\n",
       "      <td>14.40</td>\n",
       "      <td>13.59</td>\n",
       "      <td>14.35</td>\n",
       "      <td>14.350000</td>\n",
       "    </tr>\n",
       "    <tr>\n",
       "      <th>251</th>\n",
       "      <td>14.29</td>\n",
       "      <td>14.34</td>\n",
       "      <td>14.03</td>\n",
       "      <td>14.06</td>\n",
       "      <td>14.060000</td>\n",
       "    </tr>\n",
       "  </tbody>\n",
       "</table>\n",
       "<p>252 rows × 5 columns</p>\n",
       "</div>"
      ],
      "text/plain": [
       "      Open   High    Low  Close  Adj Close\n",
       "0     6.58   6.82   6.49   6.76   6.727587\n",
       "1     6.90   7.18   6.86   7.05   7.016197\n",
       "2     7.22   7.42   7.18   7.36   7.324710\n",
       "3     7.31   7.75   7.17   7.74   7.702888\n",
       "4     8.45   8.56   7.83   7.88   7.842216\n",
       "..     ...    ...    ...    ...        ...\n",
       "247  13.29  13.31  13.12  13.18  13.180000\n",
       "248  13.20  13.29  13.10  13.12  13.120000\n",
       "249  13.12  13.43  13.04  13.40  13.400000\n",
       "250  13.60  14.40  13.59  14.35  14.350000\n",
       "251  14.29  14.34  14.03  14.06  14.060000\n",
       "\n",
       "[252 rows x 5 columns]"
      ]
     },
     "execution_count": 9,
     "metadata": {},
     "output_type": "execute_result"
    }
   ],
   "source": [
    "df_for_training"
   ]
  },
  {
   "cell_type": "code",
   "execution_count": 10,
   "metadata": {},
   "outputs": [
    {
     "data": {
      "text/plain": [
       "<matplotlib.axes._subplots.AxesSubplot at 0x1a5467e320>"
      ]
     },
     "execution_count": 10,
     "metadata": {},
     "output_type": "execute_result"
    },
    {
     "data": {
      "image/png": "[encoded data removed]",
      "text/plain": [
       "<Figure size 432x288 with 1 Axes>"
      ]
     },
     "metadata": {
      "needs_background": "light"
     },
     "output_type": "display_data"
    }
   ],
   "source": [
    "df_for_plot = df_for_training.tail(5000)\n",
    "df_for_plot.plot.line()"
   ]
  },
  {
   "cell_type": "code",
   "execution_count": 11,
   "metadata": {},
   "outputs": [],
   "source": [
    "# normalize the dataset, since LSTM uses sigmoid and tanh, values are normalized to avoid problems\n",
    "scaler = StandardScaler()\n",
    "scaler = scaler.fit(df_for_training)\n",
    "df_for_training_scaled = scaler.transform(df_for_training)"
   ]
  },
  {
   "cell_type": "code",
   "execution_count": 12,
   "metadata": {},
   "outputs": [
    {
     "data": {
      "text/plain": [
       "252"
      ]
     },
     "execution_count": 12,
     "metadata": {},
     "output_type": "execute_result"
    }
   ],
   "source": [
    "\n",
    "len(df_for_training_scaled)"
   ]
  },
  {
   "cell_type": "code",
   "execution_count": 13,
   "metadata": {},
   "outputs": [],
   "source": [
    "trainX = []\n",
    "trainY = []"
   ]
  },
  {
   "cell_type": "code",
   "execution_count": 14,
   "metadata": {},
   "outputs": [],
   "source": [
    "# for input to LSTM's trainX and trainY have to be in 3D\n",
    "n_future = 1\n",
    "n_past = 14 "
   ]
  },
  {
   "cell_type": "code",
   "execution_count": null,
   "metadata": {},
   "outputs": [],
   "source": []
  },
  {
   "cell_type": "code",
   "execution_count": 15,
   "metadata": {},
   "outputs": [],
   "source": [
    "for i in range(n_past, len(df_for_training_scaled) - n_future+1):\n",
    "     trainX.append(df_for_training_scaled[i - n_past:i, 0:df_for_training.shape[1]])\n",
    "     trainY.append(df_for_training_scaled[i + n_future - 1:i + n_future, 0])   \n",
    "        "
   ]
  },
  {
   "cell_type": "code",
   "execution_count": null,
   "metadata": {},
   "outputs": [],
   "source": [
    "\n"
   ]
  },
  {
   "cell_type": "code",
   "execution_count": null,
   "metadata": {},
   "outputs": [],
   "source": []
  },
  {
   "cell_type": "code",
   "execution_count": 16,
   "metadata": {},
   "outputs": [],
   "source": [
    "trainX, trainY = np.array(trainX), np.array(trainY)"
   ]
  },
  {
   "cell_type": "code",
   "execution_count": 17,
   "metadata": {},
   "outputs": [
    {
     "data": {
      "text/plain": [
       "array([[-0.80954348],\n",
       "       [-0.89895345],\n",
       "       [-0.92756465],\n",
       "       [-0.99551623],\n",
       "       [-1.13857219],\n",
       "       [-1.0956554 ],\n",
       "       [-1.1135374 ],\n",
       "       [-1.06346781],\n",
       "       [-0.98478703],\n",
       "       [-1.00982183],\n",
       "       [-0.96690504],\n",
       "       [-0.99909263],\n",
       "       [-1.02412742],\n",
       "       [-1.02055102],\n",
       "       [-1.1242666 ],\n",
       "       [-1.04558582],\n",
       "       [-1.08134981],\n",
       "       [-0.92756465],\n",
       "       [-0.93829384],\n",
       "       [-0.93829384],\n",
       "       [-0.95617584],\n",
       "       [-0.98121063],\n",
       "       [-0.96332864],\n",
       "       [-0.93829384],\n",
       "       [-0.95259944],\n",
       "       [-1.01697462],\n",
       "       [-1.06704421],\n",
       "       [-0.96332864],\n",
       "       [-1.13857219],\n",
       "       [-1.22798217],\n",
       "       [-1.26732256],\n",
       "       [-1.28162816],\n",
       "       [-1.25659336],\n",
       "       [-1.19937098],\n",
       "       [-1.21367657],\n",
       "       [-1.16360699],\n",
       "       [-1.00624543],\n",
       "       [-1.00624543],\n",
       "       [-1.1063846 ],\n",
       "       [-1.1242666 ],\n",
       "       [-1.07777341],\n",
       "       [-1.14214859],\n",
       "       [-1.14930139],\n",
       "       [-1.19937098],\n",
       "       [-1.22798217],\n",
       "       [-1.19221818],\n",
       "       [-1.08492621],\n",
       "       [-1.0956554 ],\n",
       "       [-1.13141939],\n",
       "       [-1.13499579],\n",
       "       [-1.13499579],\n",
       "       [-1.22082937],\n",
       "       [-1.24586416],\n",
       "       [-1.17791258],\n",
       "       [-1.16360699],\n",
       "       [-1.20294738],\n",
       "       [-1.24586416],\n",
       "       [-1.25659336],\n",
       "       [-1.30308655],\n",
       "       [-1.32096855],\n",
       "       [-1.25659336],\n",
       "       [-1.28162816],\n",
       "       [-1.02770382],\n",
       "       [-0.98836343],\n",
       "       [-1.092079  ],\n",
       "       [-1.17433618],\n",
       "       [-1.21725297],\n",
       "       [-1.28162816],\n",
       "       [-1.29593375],\n",
       "       [-1.23513497],\n",
       "       [-1.24228777],\n",
       "       [-1.26732256],\n",
       "       [-1.22082937],\n",
       "       [-1.29951015],\n",
       "       [-1.17791258],\n",
       "       [-1.16360699],\n",
       "       [-1.23871137],\n",
       "       [-1.18864178],\n",
       "       [-0.93471744],\n",
       "       [-0.98836343],\n",
       "       [-1.03485662],\n",
       "       [-1.05989141],\n",
       "       [-1.06704421],\n",
       "       [-0.97405783],\n",
       "       [-0.82027267],\n",
       "       [-0.83457827],\n",
       "       [-0.85961306],\n",
       "       [-0.84173107],\n",
       "       [-0.62714712],\n",
       "       [-0.79523788],\n",
       "       [-0.81669628],\n",
       "       [-0.77735589],\n",
       "       [-0.7237099 ],\n",
       "       [-0.83815467],\n",
       "       [-0.78093228],\n",
       "       [-0.7272863 ],\n",
       "       [-0.7129807 ],\n",
       "       [-0.61999433],\n",
       "       [-0.59495953],\n",
       "       [-0.11929845],\n",
       "       [-0.30884761],\n",
       "       [-0.20513203],\n",
       "       [-0.330306  ],\n",
       "       [-0.29454201],\n",
       "       [-0.02631208],\n",
       "       [-0.08353446],\n",
       "       [ 0.10243829],\n",
       "       [-0.02273568],\n",
       "       [-0.01558288],\n",
       "       [ 0.0630979 ],\n",
       "       [ 0.36709182],\n",
       "       [ 0.30271664],\n",
       "       [ 0.30986943],\n",
       "       [ 0.25264705],\n",
       "       [ 0.23118865],\n",
       "       [ 0.14177868],\n",
       "       [ 0.25622345],\n",
       "       [ 0.35278622],\n",
       "       [ 0.431467  ],\n",
       "       [ 0.40643221],\n",
       "       [ 0.47080739],\n",
       "       [ 0.49941859],\n",
       "       [ 0.57094657],\n",
       "       [ 0.56737017],\n",
       "       [ 0.4529254 ],\n",
       "       [ 0.51730058],\n",
       "       [ 0.449349  ],\n",
       "       [ 0.39212661],\n",
       "       [ 0.28125824],\n",
       "       [ 0.36709182],\n",
       "       [ 0.35636262],\n",
       "       [ 0.41716141],\n",
       "       [ 0.36351542],\n",
       "       [ 0.34920982],\n",
       "       [ 0.32059863],\n",
       "       [ 0.34563343],\n",
       "       [ 0.431467  ],\n",
       "       [ 0.26695265],\n",
       "       [ 0.41000861],\n",
       "       [ 0.67108574],\n",
       "       [ 0.57452297],\n",
       "       [ 0.51014778],\n",
       "       [ 0.65320375],\n",
       "       [ 0.74976652],\n",
       "       [ 0.68896774],\n",
       "       [ 0.68539134],\n",
       "       [ 0.64247455],\n",
       "       [ 0.64962735],\n",
       "       [ 0.61386336],\n",
       "       [ 0.4600782 ],\n",
       "       [ 0.52087698],\n",
       "       [ 0.8391765 ],\n",
       "       [ 0.49941859],\n",
       "       [ 0.61743976],\n",
       "       [ 0.47080739],\n",
       "       [ 0.42073781],\n",
       "       [ 0.4278906 ],\n",
       "       [ 0.55664097],\n",
       "       [ 0.55306457],\n",
       "       [ 0.65320375],\n",
       "       [ 0.63889815],\n",
       "       [ 0.67108574],\n",
       "       [ 0.68181494],\n",
       "       [ 0.61028696],\n",
       "       [ 0.61743976],\n",
       "       [ 0.76407212],\n",
       "       [ 0.77122492],\n",
       "       [ 0.77122492],\n",
       "       [ 0.72830813],\n",
       "       [ 0.85348209],\n",
       "       [ 1.04303125],\n",
       "       [ 1.11455923],\n",
       "       [ 1.2218512 ],\n",
       "       [ 1.07164244],\n",
       "       [ 1.15747602],\n",
       "       [ 1.23973319],\n",
       "       [ 1.2182748 ],\n",
       "       [ 1.50081033],\n",
       "       [ 1.47219913],\n",
       "       [ 1.6188315 ],\n",
       "       [ 1.57949111],\n",
       "       [ 1.41855315],\n",
       "       [ 1.07521884],\n",
       "       [ 0.91428088],\n",
       "       [ 1.09310083],\n",
       "       [ 1.30410838],\n",
       "       [ 1.25761519],\n",
       "       [ 1.39709475],\n",
       "       [ 1.25761519],\n",
       "       [ 1.24330959],\n",
       "       [ 1.17178161],\n",
       "       [ 1.10025363],\n",
       "       [ 0.97150326],\n",
       "       [ 1.16820521],\n",
       "       [ 1.15747602],\n",
       "       [ 1.17893441],\n",
       "       [ 1.32199037],\n",
       "       [ 1.26834439],\n",
       "       [ 1.35417797],\n",
       "       [ 1.35060157],\n",
       "       [ 1.32914317],\n",
       "       [ 1.27907358],\n",
       "       [ 1.36490716],\n",
       "       [ 1.40424755],\n",
       "       [ 1.36848356],\n",
       "       [ 1.33987237],\n",
       "       [ 1.44716434],\n",
       "       [ 1.41140035],\n",
       "       [ 1.30053198],\n",
       "       [ 1.33271957],\n",
       "       [ 1.16105242],\n",
       "       [ 1.31126118],\n",
       "       [ 1.36490716],\n",
       "       [ 1.41140035],\n",
       "       [ 1.36490716],\n",
       "       [ 1.30410838],\n",
       "       [ 1.25046239],\n",
       "       [ 1.24330959],\n",
       "       [ 1.27192079],\n",
       "       [ 1.30768478],\n",
       "       [ 1.24330959],\n",
       "       [ 1.26476799],\n",
       "       [ 1.24330959],\n",
       "       [ 1.29695558],\n",
       "       [ 1.25403879],\n",
       "       [ 1.2146984 ],\n",
       "       [ 1.11455923],\n",
       "       [ 1.229004  ],\n",
       "       [ 1.26834439],\n",
       "       [ 1.25046239],\n",
       "       [ 1.15032322],\n",
       "       [ 1.2182748 ],\n",
       "       [ 1.2254276 ],\n",
       "       [ 1.28980278],\n",
       "       [ 1.25761519],\n",
       "       [ 1.229004  ],\n",
       "       [ 1.40067115],\n",
       "       [ 1.64744269]])"
      ]
     },
     "execution_count": 17,
     "metadata": {},
     "output_type": "execute_result"
    }
   ],
   "source": [
    "trainY"
   ]
  },
  {
   "cell_type": "code",
   "execution_count": 18,
   "metadata": {},
   "outputs": [
    {
     "data": {
      "text/plain": [
       "(238, 14, 5)"
      ]
     },
     "execution_count": 18,
     "metadata": {},
     "output_type": "execute_result"
    }
   ],
   "source": [
    "trainX.shape"
   ]
  },
  {
   "cell_type": "code",
   "execution_count": 19,
   "metadata": {},
   "outputs": [
    {
     "data": {
      "text/plain": [
       "(238, 1)"
      ]
     },
     "execution_count": 19,
     "metadata": {},
     "output_type": "execute_result"
    }
   ],
   "source": [
    "trainY.shape"
   ]
  },
  {
   "cell_type": "code",
   "execution_count": 20,
   "metadata": {},
   "outputs": [],
   "source": [
    "from keras.layers import Dropout\n",
    "\\\n",
    "import tensorflow.keras as keras"
   ]
  },
  {
   "cell_type": "code",
   "execution_count": null,
   "metadata": {},
   "outputs": [],
   "source": [
    "\n"
   ]
  },
  {
   "cell_type": "code",
   "execution_count": 21,
   "metadata": {},
   "outputs": [
    {
     "name": "stdout",
     "output_type": "stream",
     "text": [
      "Model: \"sequential\"\n",
      "_________________________________________________________________\n",
      "Layer (type)                 Output Shape              Param #   \n",
      "=================================================================\n",
      "lstm (LSTM)                  (None, 14, 64)            17920     \n",
      "_________________________________________________________________\n",
      "lstm_1 (LSTM)                (None, 32)                12416     \n",
      "_________________________________________________________________\n",
      "dropout (Dropout)            (None, 32)                0         \n",
      "_________________________________________________________________\n",
      "dense (Dense)                (None, 1)                 33        \n",
      "=================================================================\n",
      "Total params: 30,369\n",
      "Trainable params: 30,369\n",
      "Non-trainable params: 0\n",
      "_________________________________________________________________\n"
     ]
    }
   ],
   "source": [
    "# defining the autoencoder model\n",
    "model = Sequential()\n",
    "model.add(LSTM(64, activation = 'relu', input_shape = (trainX.shape[1], trainX.shape[2]), return_sequences=True))\n",
    "model.add(LSTM(32, activation = 'relu', return_sequences = False))\n",
    "model.add(Dropout(0.2))\n",
    "model.add(Dense(trainY.shape[1]))\n",
    "\n",
    "model.compile(optimizer=keras.optimizers.Adam() , loss ='mse')\n",
    "model.summary()\n",
    "\n"
   ]
  },
  {
   "cell_type": "code",
   "execution_count": 22,
   "metadata": {},
   "outputs": [
    {
     "name": "stdout",
     "output_type": "stream",
     "text": [
      "Epoch 1/10\n",
      "14/14 [==============================] - 38s 151ms/step - loss: 0.6310 - val_loss: 0.1141\n",
      "Epoch 2/10\n",
      "14/14 [==============================] - 0s 14ms/step - loss: 0.1052 - val_loss: 0.0270\n",
      "Epoch 3/10\n",
      "14/14 [==============================] - 0s 14ms/step - loss: 0.0657 - val_loss: 0.0235\n",
      "Epoch 4/10\n",
      "14/14 [==============================] - 0s 17ms/step - loss: 0.0487 - val_loss: 0.0111\n",
      "Epoch 5/10\n",
      "14/14 [==============================] - 0s 17ms/step - loss: 0.0579 - val_loss: 0.0166\n",
      "Epoch 6/10\n",
      "14/14 [==============================] - 0s 16ms/step - loss: 0.0504 - val_loss: 0.0174\n",
      "Epoch 7/10\n",
      "14/14 [==============================] - 0s 18ms/step - loss: 0.0504 - val_loss: 0.0117\n",
      "Epoch 8/10\n",
      "14/14 [==============================] - 0s 14ms/step - loss: 0.0404 - val_loss: 0.0097\n",
      "Epoch 9/10\n",
      "14/14 [==============================] - 0s 15ms/step - loss: 0.0380 - val_loss: 0.0114\n",
      "Epoch 10/10\n",
      "14/14 [==============================] - 0s 14ms/step - loss: 0.0329 - val_loss: 0.0134\n"
     ]
    }
   ],
   "source": [
    "history = model.fit(trainX, trainY, epochs=10, batch_size = 16, validation_split = 0.1, verbose=1)"
   ]
  },
  {
   "cell_type": "code",
   "execution_count": 23,
   "metadata": {},
   "outputs": [
    {
     "data": {
      "text/plain": [
       "<matplotlib.legend.Legend at 0x1a551c97f0>"
      ]
     },
     "execution_count": 23,
     "metadata": {},
     "output_type": "execute_result"
    },
    {
     "data": {
      "image/png": "[encoded data removed]",
      "text/plain": [
       "<Figure size 432x288 with 1 Axes>"
      ]
     },
     "metadata": {
      "needs_background": "light"
     },
     "output_type": "display_data"
    }
   ],
   "source": [
    "plt.plot(history.history['loss'], label = 'Training loss')\n",
    "plt.plot(history.history['val_loss'], label = 'validation loss')\n",
    "plt.legend()"
   ]
  },
  {
   "cell_type": "code",
   "execution_count": 24,
   "metadata": {},
   "outputs": [],
   "source": [
    "# forecasting and generating future dates(continuing from the last date of training dataset)\n",
    "\n",
    "n_future = 25\n",
    "forecast_period_dates = pd.date_range(list(train_dates)[-1], periods=n_future, freq='1d')"
   ]
  },
  {
   "cell_type": "code",
   "execution_count": 25,
   "metadata": {},
   "outputs": [],
   "source": [
    "forecast = model.predict(trainX[-n_future: ])"
   ]
  },
  {
   "cell_type": "code",
   "execution_count": 26,
   "metadata": {},
   "outputs": [
    {
     "data": {
      "text/plain": [
       "(25, 1)"
      ]
     },
     "execution_count": 26,
     "metadata": {},
     "output_type": "execute_result"
    }
   ],
   "source": [
    "forecast.shape"
   ]
  },
  {
   "cell_type": "code",
   "execution_count": 27,
   "metadata": {},
   "outputs": [],
   "source": [
    "forecast_copies = np.repeat(forecast, df_for_training.shape[1], axis = -1)\n",
    "y_pred_future = scaler.inverse_transform(forecast_copies)[:, 0]"
   ]
  },
  {
   "cell_type": "code",
   "execution_count": 28,
   "metadata": {},
   "outputs": [
    {
     "data": {
      "text/plain": [
       "(25,)"
      ]
     },
     "execution_count": 28,
     "metadata": {},
     "output_type": "execute_result"
    }
   ],
   "source": [
    "y_pred_future.shape"
   ]
  },
  {
   "cell_type": "code",
   "execution_count": 29,
   "metadata": {},
   "outputs": [],
   "source": [
    "# convert timestamp to dates\n",
    "forecast_dates = []\n",
    "for time_i in forecast_period_dates:\n",
    "    forecast_dates.append(time_i.date())"
   ]
  },
  {
   "cell_type": "code",
   "execution_count": 30,
   "metadata": {},
   "outputs": [],
   "source": [
    "df_forecast = pd.DataFrame({'Date':np.array(forecast_dates), 'Open':y_pred_future})\n",
    "df_forecast['Data'] = pd.to_datetime(df_forecast['Date'])"
   ]
  },
  {
   "cell_type": "code",
   "execution_count": 31,
   "metadata": {},
   "outputs": [],
   "source": [
    "orignal = df[['Date', 'Open']]\n"
   ]
  },
  {
   "cell_type": "code",
   "execution_count": 32,
   "metadata": {},
   "outputs": [
    {
     "name": "stderr",
     "output_type": "stream",
     "text": [
      "/opt/anaconda3/envs/bonus_points2/lib/python3.6/site-packages/ipykernel_launcher.py:1: SettingWithCopyWarning: \n",
      "A value is trying to be set on a copy of a slice from a DataFrame.\n",
      "Try using .loc[row_indexer,col_indexer] = value instead\n",
      "\n",
      "See the caveats in the documentation: https://pandas.pydata.org/pandas-docs/stable/user_guide/indexing.html#returning-a-view-versus-a-copy\n",
      "  \"\"\"Entry point for launching an IPython kernel.\n"
     ]
    }
   ],
   "source": [
    "orignal['Date']=pd.to_datetime(orignal['Date'])\n",
    "orignal = orignal.loc[orignal['Date'] >= '2021-03-28']\n"
   ]
  },
  {
   "cell_type": "code",
   "execution_count": 33,
   "metadata": {},
   "outputs": [
    {
     "name": "stderr",
     "output_type": "stream",
     "text": [
      "/opt/anaconda3/envs/bonus_points2/lib/python3.6/site-packages/seaborn/_decorators.py:43: FutureWarning: Pass the following variables as keyword args: x, y. From version 0.12, the only valid positional argument will be `data`, and passing other arguments without an explicit keyword will result in an error or misinterpretation.\n",
      "  FutureWarning\n",
      "/opt/anaconda3/envs/bonus_points2/lib/python3.6/site-packages/seaborn/_decorators.py:43: FutureWarning: Pass the following variables as keyword args: x, y. From version 0.12, the only valid positional argument will be `data`, and passing other arguments without an explicit keyword will result in an error or misinterpretation.\n",
      "  FutureWarning\n"
     ]
    },
    {
     "data": {
      "text/plain": [
       "<matplotlib.axes._subplots.AxesSubplot at 0x1a556dca90>"
      ]
     },
     "execution_count": 33,
     "metadata": {},
     "output_type": "execute_result"
    },
    {
     "data": {
      "image/png": "[encoded data removed]",
      "text/plain": [
       "<Figure size 432x288 with 1 Axes>"
      ]
     },
     "metadata": {
      "needs_background": "light"
     },
     "output_type": "display_data"
    }
   ],
   "source": [
    "sns.lineplot(orignal['Date'], orignal['Open'])\n",
    "sns.lineplot(df_forecast['Date'], df_forecast['Open'])"
   ]
  },
  {
   "cell_type": "code",
   "execution_count": null,
   "metadata": {},
   "outputs": [],
   "source": []
  },
  {
   "cell_type": "code",
   "execution_count": null,
   "metadata": {},
   "outputs": [],
   "source": []
  }
 ],
 "metadata": {
  "kernelspec": {
   "display_name": "Python 3",
   "language": "python",
   "name": "python3"
  },
  "language_info": {
   "codemirror_mode": {
    "name": "ipython",
    "version": 3
   },
   "file_extension": ".py",
   "mimetype": "text/x-python",
   "name": "python",
   "nbconvert_exporter": "python",
   "pygments_lexer": "ipython3",
   "version": "3.6.10"
  }
 },
 "nbformat": 4,
 "nbformat_minor": 2
}
